{
 "cells": [
  {
   "cell_type": "markdown",
   "id": "76b05bf5",
   "metadata": {},
   "source": [
    "## A Study of My Daily Steps Over a One Month Period\n"
   ]
  },
  {
   "cell_type": "markdown",
   "id": "d33aa1a0",
   "metadata": {},
   "source": [
    "By Akshay Ramasubramanian"
   ]
  },
  {
   "cell_type": "markdown",
   "id": "4631c688",
   "metadata": {},
   "source": [
    "### Introduction"
   ]
  },
  {
   "cell_type": "markdown",
   "id": "120eb46b",
   "metadata": {},
   "source": [
    "The topic for this project is analyzing the daily number of steps I've taken over the course of one month. This data is from September 3rd, 2021 to October 3rd, 2021 and is collected from my Fitbit watch. The number of steps is not completely accurate, as it only collects data when I am wearing the watch. So, on days where my watch is out of charge or I don't go outside it will not collect steps. However, for the most part the data is accurate and it will be used to discover any trends and compared to the average daily steps of a college student."
   ]
  },
  {
   "cell_type": "markdown",
   "id": "b1905675",
   "metadata": {},
   "source": [
    "### Results\n"
   ]
  },
  {
   "cell_type": "code",
   "execution_count": 63,
   "id": "be8be40c",
   "metadata": {
    "scrolled": false
   },
   "outputs": [
    {
     "data": {
      "text/html": [
       "<div>\n",
       "<style scoped>\n",
       "    .dataframe tbody tr th:only-of-type {\n",
       "        vertical-align: middle;\n",
       "    }\n",
       "\n",
       "    .dataframe tbody tr th {\n",
       "        vertical-align: top;\n",
       "    }\n",
       "\n",
       "    .dataframe thead th {\n",
       "        text-align: right;\n",
       "    }\n",
       "</style>\n",
       "<table border=\"1\" class=\"dataframe\">\n",
       "  <thead>\n",
       "    <tr style=\"text-align: right;\">\n",
       "      <th></th>\n",
       "      <th>Date</th>\n",
       "      <th>Day</th>\n",
       "      <th>Steps</th>\n",
       "    </tr>\n",
       "  </thead>\n",
       "  <tbody>\n",
       "    <tr>\n",
       "      <th>1</th>\n",
       "      <td>09-03</td>\n",
       "      <td>Sunday</td>\n",
       "      <td>15305</td>\n",
       "    </tr>\n",
       "    <tr>\n",
       "      <th>2</th>\n",
       "      <td>09-04</td>\n",
       "      <td>Monday</td>\n",
       "      <td>7500</td>\n",
       "    </tr>\n",
       "    <tr>\n",
       "      <th>3</th>\n",
       "      <td>09-05</td>\n",
       "      <td>Tuesday</td>\n",
       "      <td>6825</td>\n",
       "    </tr>\n",
       "    <tr>\n",
       "      <th>4</th>\n",
       "      <td>09-06</td>\n",
       "      <td>Wednesday</td>\n",
       "      <td>9992</td>\n",
       "    </tr>\n",
       "    <tr>\n",
       "      <th>5</th>\n",
       "      <td>09-07</td>\n",
       "      <td>Thursday</td>\n",
       "      <td>16425</td>\n",
       "    </tr>\n",
       "    <tr>\n",
       "      <th>6</th>\n",
       "      <td>09-08</td>\n",
       "      <td>Friday</td>\n",
       "      <td>10418</td>\n",
       "    </tr>\n",
       "    <tr>\n",
       "      <th>7</th>\n",
       "      <td>09-09</td>\n",
       "      <td>Saturday</td>\n",
       "      <td>8170</td>\n",
       "    </tr>\n",
       "    <tr>\n",
       "      <th>8</th>\n",
       "      <td>09-10</td>\n",
       "      <td>Sunday</td>\n",
       "      <td>6755</td>\n",
       "    </tr>\n",
       "    <tr>\n",
       "      <th>9</th>\n",
       "      <td>09-11</td>\n",
       "      <td>Monday</td>\n",
       "      <td>2586</td>\n",
       "    </tr>\n",
       "    <tr>\n",
       "      <th>10</th>\n",
       "      <td>09-12</td>\n",
       "      <td>Tuesday</td>\n",
       "      <td>3184</td>\n",
       "    </tr>\n",
       "    <tr>\n",
       "      <th>11</th>\n",
       "      <td>09-13</td>\n",
       "      <td>Wednesday</td>\n",
       "      <td>7998</td>\n",
       "    </tr>\n",
       "    <tr>\n",
       "      <th>12</th>\n",
       "      <td>09-14</td>\n",
       "      <td>Thursday</td>\n",
       "      <td>6688</td>\n",
       "    </tr>\n",
       "    <tr>\n",
       "      <th>13</th>\n",
       "      <td>09-15</td>\n",
       "      <td>Friday</td>\n",
       "      <td>5844</td>\n",
       "    </tr>\n",
       "    <tr>\n",
       "      <th>14</th>\n",
       "      <td>09-16</td>\n",
       "      <td>Saturday</td>\n",
       "      <td>4553</td>\n",
       "    </tr>\n",
       "    <tr>\n",
       "      <th>15</th>\n",
       "      <td>09-17</td>\n",
       "      <td>Sunday</td>\n",
       "      <td>4123</td>\n",
       "    </tr>\n",
       "    <tr>\n",
       "      <th>16</th>\n",
       "      <td>09-18</td>\n",
       "      <td>Monday</td>\n",
       "      <td>5632</td>\n",
       "    </tr>\n",
       "    <tr>\n",
       "      <th>17</th>\n",
       "      <td>09-19</td>\n",
       "      <td>Tuesday</td>\n",
       "      <td>2095</td>\n",
       "    </tr>\n",
       "    <tr>\n",
       "      <th>18</th>\n",
       "      <td>09-20</td>\n",
       "      <td>Wednesday</td>\n",
       "      <td>8248</td>\n",
       "    </tr>\n",
       "    <tr>\n",
       "      <th>19</th>\n",
       "      <td>09-21</td>\n",
       "      <td>Thursday</td>\n",
       "      <td>2987</td>\n",
       "    </tr>\n",
       "    <tr>\n",
       "      <th>20</th>\n",
       "      <td>09-22</td>\n",
       "      <td>Friday</td>\n",
       "      <td>6</td>\n",
       "    </tr>\n",
       "    <tr>\n",
       "      <th>21</th>\n",
       "      <td>09-23</td>\n",
       "      <td>Saturday</td>\n",
       "      <td>7033</td>\n",
       "    </tr>\n",
       "    <tr>\n",
       "      <th>22</th>\n",
       "      <td>09-24</td>\n",
       "      <td>Sunday</td>\n",
       "      <td>2057</td>\n",
       "    </tr>\n",
       "    <tr>\n",
       "      <th>23</th>\n",
       "      <td>09-25</td>\n",
       "      <td>Monday</td>\n",
       "      <td>3203</td>\n",
       "    </tr>\n",
       "    <tr>\n",
       "      <th>24</th>\n",
       "      <td>09-26</td>\n",
       "      <td>Tuesday</td>\n",
       "      <td>7579</td>\n",
       "    </tr>\n",
       "    <tr>\n",
       "      <th>25</th>\n",
       "      <td>09-27</td>\n",
       "      <td>Wednesday</td>\n",
       "      <td>5929</td>\n",
       "    </tr>\n",
       "    <tr>\n",
       "      <th>26</th>\n",
       "      <td>09-28</td>\n",
       "      <td>Thursday</td>\n",
       "      <td>2981</td>\n",
       "    </tr>\n",
       "    <tr>\n",
       "      <th>27</th>\n",
       "      <td>09-29</td>\n",
       "      <td>Friday</td>\n",
       "      <td>9641</td>\n",
       "    </tr>\n",
       "    <tr>\n",
       "      <th>28</th>\n",
       "      <td>09-30</td>\n",
       "      <td>Saturday</td>\n",
       "      <td>1892</td>\n",
       "    </tr>\n",
       "    <tr>\n",
       "      <th>29</th>\n",
       "      <td>10-01</td>\n",
       "      <td>Sunday</td>\n",
       "      <td>5276</td>\n",
       "    </tr>\n",
       "    <tr>\n",
       "      <th>30</th>\n",
       "      <td>10-02</td>\n",
       "      <td>Monday</td>\n",
       "      <td>8450</td>\n",
       "    </tr>\n",
       "    <tr>\n",
       "      <th>31</th>\n",
       "      <td>10-03</td>\n",
       "      <td>Tuesday</td>\n",
       "      <td>0</td>\n",
       "    </tr>\n",
       "  </tbody>\n",
       "</table>\n",
       "</div>"
      ],
      "text/plain": [
       "     Date        Day  Steps\n",
       "1   09-03     Sunday  15305\n",
       "2   09-04     Monday   7500\n",
       "3   09-05    Tuesday   6825\n",
       "4   09-06  Wednesday   9992\n",
       "5   09-07   Thursday  16425\n",
       "6   09-08     Friday  10418\n",
       "7   09-09   Saturday   8170\n",
       "8   09-10     Sunday   6755\n",
       "9   09-11     Monday   2586\n",
       "10  09-12    Tuesday   3184\n",
       "11  09-13  Wednesday   7998\n",
       "12  09-14   Thursday   6688\n",
       "13  09-15     Friday   5844\n",
       "14  09-16   Saturday   4553\n",
       "15  09-17     Sunday   4123\n",
       "16  09-18     Monday   5632\n",
       "17  09-19    Tuesday   2095\n",
       "18  09-20  Wednesday   8248\n",
       "19  09-21   Thursday   2987\n",
       "20  09-22     Friday      6\n",
       "21  09-23   Saturday   7033\n",
       "22  09-24     Sunday   2057\n",
       "23  09-25     Monday   3203\n",
       "24  09-26    Tuesday   7579\n",
       "25  09-27  Wednesday   5929\n",
       "26  09-28   Thursday   2981\n",
       "27  09-29     Friday   9641\n",
       "28  09-30   Saturday   1892\n",
       "29  10-01     Sunday   5276\n",
       "30  10-02     Monday   8450\n",
       "31  10-03    Tuesday      0"
      ]
     },
     "execution_count": 63,
     "metadata": {},
     "output_type": "execute_result"
    }
   ],
   "source": [
    "import numpy as np\n",
    "import matplotlib.pyplot as plt\n",
    "import pandas as pd\n",
    "\n",
    "# The data from the Fitbit app is stored in two text files, one for the integer values and one for the string values \n",
    "y = np.loadtxt(\"BonusProject_Data.txt\",dtype='int')\n",
    "data = np.loadtxt(\"BonusProject_Data2.txt\",dtype='str')\n",
    "\n",
    "# The day number (from 1 to 31) is stored in the \"x\" variable which will be used later in graphing \n",
    "x = np.arange(1,32,1)\n",
    "# The days and dates are stored in arrays for the table\n",
    "dates_data = data[:,0]\n",
    "days_data = data[:,1]\n",
    "\n",
    "# Display the data in a table using pd.DataFrame\n",
    "data_table = {'Date': dates_data, 'Day': days_data, 'Steps': y}\n",
    "\n",
    "pd.DataFrame(data_table, index=x)\n",
    "\n",
    "# As seen in Day 20 and 31, the number of steps is very low which is likely not accurate. On these days either my watch was\n",
    "# out of charge or I didn't leave the house; in either case I wasn't wearing the watch so steps were not collected. "
   ]
  },
  {
   "cell_type": "code",
   "execution_count": 57,
   "id": "b43ac3c7",
   "metadata": {},
   "outputs": [
    {
     "data": {
      "image/png": "[encoded data removed]",
      "text/plain": [
       "<Figure size 432x288 with 1 Axes>"
      ]
     },
     "metadata": {
      "needs_background": "light"
     },
     "output_type": "display_data"
    }
   ],
   "source": [
    "# The data will now be presented in a scatter plot using matplotlib.pyplot, with the x-axis being the day number and the \n",
    "# y-axis being the number of steps.\n",
    "plt.scatter(x, y)\n",
    "plt.title(\"Daily Number of Steps Over One Month\")\n",
    "plt.xlabel(\"Day Number\")\n",
    "plt.ylabel(\"Steps\")\n",
    "plt.show()"
   ]
  },
  {
   "cell_type": "code",
   "execution_count": 66,
   "id": "55fe07c9",
   "metadata": {},
   "outputs": [
    {
     "data": {
      "image/png": "[encoded data removed]",
      "text/plain": [
       "<Figure size 720x360 with 1 Axes>"
      ]
     },
     "metadata": {
      "needs_background": "light"
     },
     "output_type": "display_data"
    }
   ],
   "source": [
    "# For further analysis, the number of steps has been organized based on the day as well to identify any trends in the data.\n",
    "# To make sure each day of the week is evenly counted, the last three days of the data were omitted so each day of the week\n",
    "# was counted four times.\n",
    "sunday = 0\n",
    "monday = 0\n",
    "tuesday = 0\n",
    "wednesday = 0\n",
    "thursday = 0\n",
    "friday = 0\n",
    "saturday = 0\n",
    "index = 0 \n",
    "\n",
    "for i in range(4): # A nested for loop is used to add the number of steps to each variable corresponding to the day of the  \n",
    "    for j in range(7):\n",
    "        if j==0:\n",
    "            sunday += y[index]\n",
    "        if j==1:\n",
    "            monday += y[index]\n",
    "        if j==2:\n",
    "            tuesday += y[index]\n",
    "        if j==3:\n",
    "            wednesday += y[index]\n",
    "        if j==4:\n",
    "            thursday += y[index]\n",
    "        if j==5:\n",
    "            friday += y[index]\n",
    "        if j==6:\n",
    "            saturday += y[index]\n",
    "        index += 1\n",
    "\n",
    "day_steps = [sunday, monday, tuesday, wednesday, thursday, friday, saturday]\n",
    "days = [\"Sunday\", \"Monday\", \"Tuesday\", \"Wednesday\", \"Thursday\", \"Friday\", \"Saturday\"]\n",
    "\n",
    "# Now we display the data in a bar graph using matplotlib.pyplot\n",
    "plt.figure(figsize=(10,5))\n",
    "plt.bar(days, day_steps)\n",
    "plt.title(\"Number of Steps for Each Day Over One Month\")\n",
    "plt.xlabel(\"Day\")\n",
    "plt.ylabel(\"Steps\")\n",
    "plt.show()"
   ]
  },
  {
   "cell_type": "markdown",
   "id": "f4794afe",
   "metadata": {},
   "source": [
    "### Analysis"
   ]
  },
  {
   "cell_type": "markdown",
   "id": "135f71c5",
   "metadata": {},
   "source": [
    "Based on the scatter plot, there doesn't seem to be any general trends in the number of steps over a month, as some days there are more steps and some days there aren't. Hence, the data was organized based on the day of the week to see if there are any patterns. The day with the most amount of steps is Wednesday, which coincides with the day I had a lecture and lab to attend every week. The day with the least amount of steps is Monday, which makes sense because I had only one lecture that day which I sometimes missed after sleeping in. Other than that, the steps on the other days of the week matched roughly with my schedule at the time, and looking back the only way I was getting steps was going to class or to the gym. "
   ]
  },
  {
   "cell_type": "markdown",
   "id": "9e4d656a",
   "metadata": {},
   "source": [
    "The next thing to analyze is the comparing average daily number of steps to that of a normal college student. According to the American Journal of Health Education, the average daily steps based on a study for a sample of college students is 11,473 +/- 2978 steps. This number can be compared to my average steps and see if there is a significant difference.  "
   ]
  },
  {
   "cell_type": "code",
   "execution_count": 60,
   "id": "3aeae1ab",
   "metadata": {},
   "outputs": [
    {
     "name": "stdout",
     "output_type": "stream",
     "text": [
      "We confirm the data IS distributed normally with a p-value of 0.07093438963888939\n"
     ]
    }
   ],
   "source": [
    "import scipy.stats as stats\n",
    "\n",
    "# We must first check if the data set are normally distributed using the Normalcy Test\n",
    "statSteps, pNormSteps = stats.normaltest(y)\n",
    "\n",
    "if pNormSteps > 0.05:\n",
    "    print(\"We confirm the data IS distributed normally with a p-value of\", pNormSteps)\n",
    "else:\n",
    "    print(\"We confirm the data is NOT distributed normally with a p-value of\", pNormSteps)"
   ]
  },
  {
   "cell_type": "code",
   "execution_count": 67,
   "id": "49964060",
   "metadata": {},
   "outputs": [
    {
     "name": "stdout",
     "output_type": "stream",
     "text": [
      "The null hypothesis is rejected as p < 0.05 and the average daily steps is significantly different than 11,473.\n",
      "The mean of the data set is 6108.870967741936\n"
     ]
    }
   ],
   "source": [
    "# Now that it is confirmed data set is normally distributed, we can use the One-Sample t-Test to compare the mean to the\n",
    "# average value and see if there is a significant difference\n",
    "\n",
    "tSteps, pValSteps = stats.ttest_1samp(a = y, popmean = 11473)\n",
    "\n",
    "if pValSteps < 0.05:\n",
    "    print(\"The null hypothesis is rejected as p < 0.05 and the average daily steps is significantly different than 11,473.\")\n",
    "else:\n",
    "    print(\"The null hypothesis is accepted as p > 0.05 and the average daily steps is similar to 11,473.\")\n",
    "\n",
    "print(\"The mean of the data set is\", np.mean(y))\n",
    "\n",
    "# Since the mean of the data set is 6109 steps and the test concludes the daily steps is significantly different than \n",
    "# 11,473, we can conclude that my daily steps over September 2021 is significantly less than the average person."
   ]
  },
  {
   "cell_type": "markdown",
   "id": "8ebda3a6",
   "metadata": {},
   "source": [
    "### Conclusion"
   ]
  },
  {
   "cell_type": "markdown",
   "id": "cc26e9e8",
   "metadata": {},
   "source": [
    "Overall, the data of my daily steps over a span of one month shows no general trends but some patterns based on the day of the week corresponding to my schedule. On busier days with classes and meeting up with friends, I had a higher step count compared to days where I was just at home. Furthermore, my average daily steps was significantly less than the average for a normal college student, which was likely due to most of my classes still being online and not having enough opportunities to go outside. Nevertheless, after this study I realized that I should try improving my lifestyle by going outside more, even if it is easier said than done. "
   ]
  },
  {
   "cell_type": "markdown",
   "id": "6dc920b2",
   "metadata": {},
   "source": [
    "### References"
   ]
  },
  {
   "attachments": {
    "image.png": {
     "image/png": "[encoded data removed]"
    }
   },
   "cell_type": "markdown",
   "id": "88aa8277",
   "metadata": {},
   "source": [
    "![image.png](attachment:image.png)\n"
   ]
  }
 ],
 "metadata": {
  "kernelspec": {
   "display_name": "Python 3 (ipykernel)",
   "language": "python",
   "name": "python3"
  },
  "language_info": {
   "codemirror_mode": {
    "name": "ipython",
    "version": 3
   },
   "file_extension": ".py",
   "mimetype": "text/x-python",
   "name": "python",
   "nbconvert_exporter": "python",
   "pygments_lexer": "ipython3",
   "version": "3.9.7"
  }
 },
 "nbformat": 4,
 "nbformat_minor": 5
}
